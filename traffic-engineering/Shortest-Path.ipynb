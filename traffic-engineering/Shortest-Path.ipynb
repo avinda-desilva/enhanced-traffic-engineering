{
 "cells": [
  {
   "cell_type": "markdown",
   "id": "2245114d",
   "metadata": {},
   "source": [
    "# Implement Shortest Path Algorithm\n",
    "\n",
    "## Use A-star search algorithm"
   ]
  },
  {
   "cell_type": "code",
   "execution_count": null,
   "id": "7791a759",
   "metadata": {},
   "outputs": [],
   "source": [
    "# Use priority queue to keep track of closest neighbors\n",
    "import heapq"
   ]
  },
  {
   "cell_type": "code",
   "execution_count": null,
   "id": "0815e205",
   "metadata": {},
   "outputs": [],
   "source": [
    "# Define a simple heuristic\n",
    "def heuristic(node, target):\n",
    "    return abs(node[0] - target[0]) + abs(node[1] - target[1])\n",
    "\n",
    "def astar(graph, start, target):\n",
    "    # Initialize distances as infinity\n",
    "    distances = {node: float('inf') for node in graph}\n",
    "    # Distance from start node to itself is 0\n",
    "    distances[start] = 0\n",
    "    \n",
    "    pq = [(0, start)]\n",
    "    \n",
    "    while pq:\n",
    "        current_dist, current_node = heapq.heappop(pq)\n",
    "        \n",
    "        # Return path if target is reached\n",
    "        if current_node == target:\n",
    "            return distances[current_node]\n",
    "        \n",
    "        for neighbor, weight in enumerate(graph[current_node]):\n",
    "            if weight == 0:\n",
    "                continue\n",
    "            \n",
    "            total_distance = distances[current_node] + weight\n",
    "            if total_distance < distances[neighbor]:\n",
    "                distances[neighbor] = total_distance\n",
    "                f_score = total_distance + heuristic(neighbor, target)\n",
    "                heapq.heappush(pq, (f_score, neighbor))\n",
    "    \n",
    "    return float('inf')  # No path found\n",
    "\n"
   ]
  },
  {
   "cell_type": "code",
   "execution_count": null,
   "id": "c3286d01",
   "metadata": {},
   "outputs": [],
   "source": [
    "# Use Graph Structure from GNN.ipynb, server and client node\n",
    "\n",
    "shortest_path_distance = astar(graph, start_node, target_node)\n",
    "print(\"Shortest path distance from node\", start_node, \"to node\", target_node, \"is:\", shortest_path_distance)"
   ]
  }
 ],
 "metadata": {
  "kernelspec": {
   "display_name": "Python 3 (ipykernel)",
   "language": "python",
   "name": "python3"
  },
  "language_info": {
   "codemirror_mode": {
    "name": "ipython",
    "version": 3
   },
   "file_extension": ".py",
   "mimetype": "text/x-python",
   "name": "python",
   "nbconvert_exporter": "python",
   "pygments_lexer": "ipython3",
   "version": "3.11.4"
  }
 },
 "nbformat": 4,
 "nbformat_minor": 5
}
