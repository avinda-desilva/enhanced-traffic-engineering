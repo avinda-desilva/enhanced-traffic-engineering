{
 "cells": [
  {
   "cell_type": "code",
   "execution_count": null,
   "id": "d68affd2",
   "metadata": {},
   "outputs": [],
   "source": [
    "import torch\n",
    "import os\n",
    "import numpy as np\n",
    "import pandas as pd\n",
    "import torch_geometric\n",
    "from torch.nn import Linear, Module, BatchNorm1d, ReLU, Dropout, MSELoss, ModuleList, LSTM, L1Loss\n",
    "from torch_geometric.nn import GCNConv\n",
    "from torch_geometric.data import Data\n",
    "from torch.optim import Adadelta"
   ]
  },
  {
   "cell_type": "code",
   "execution_count": null,
   "id": "4ca0001b",
   "metadata": {},
   "outputs": [],
   "source": [
    "device = 'cuda' if torch.cuda.is_available() else 'cpu'\n",
    "print(device)"
   ]
  },
  {
   "cell_type": "markdown",
   "id": "67cb0576",
   "metadata": {},
   "source": [
    "# Importing Data"
   ]
  },
  {
   "cell_type": "code",
   "execution_count": null,
   "id": "d1e15e74",
   "metadata": {},
   "outputs": [],
   "source": [
    "directory = '/data'\n",
    "\n",
    "files = os.listdir(directory)\n",
    "\n",
    "data = []\n",
    "\n",
    "for file in files:\n",
    "    # Add all values from files into list\n",
    "    data.append(pd.read_csv(file).values[:, -1])\n",
    "    \n",
    "# input list as data for torch model\n",
    "flows = torch.from_numpy(np.stack(flows)).float()"
   ]
  },
  {
   "cell_type": "markdown",
   "id": "3ec249bb",
   "metadata": {},
   "source": [
    "# Creating Graph Structure"
   ]
  },
  {
   "cell_type": "code",
   "execution_count": null,
   "id": "734e3b46",
   "metadata": {},
   "outputs": [],
   "source": [
    "edge_index = torch.tensor([[0, 1, 1, 2, 2, 3, 0, 3, 0, 4, 3, 4],\n",
    "                           [1, 0, 2, 1, 3, 2, 3, 0, 4, 0, 4, 3]], dtype=torch.long)\n",
    "x = torch.tensor([[1], [1], [1], [1], [1], [1], [1], [1], [1]], dtype=torch.float)\n",
    "\n",
    "data = Data(x=x.to(device), edge_index=edge_index.to(device), flows=flows.to(device))"
   ]
  },
  {
   "cell_type": "markdown",
   "id": "5238d74c",
   "metadata": {},
   "source": [
    "# Model Implementation\n",
    "\n",
    "### Setup is fairly similar to all other Torch neural networks\n",
    "#### Uses Adadelta algorithm for optimization"
   ]
  },
  {
   "cell_type": "code",
   "execution_count": null,
   "id": "b9f6992f",
   "metadata": {},
   "outputs": [],
   "source": [
    "def train(st, data, time, loss_fn, optimizer):\n",
    "    st.train()\n",
    "\n",
    "    optimizer.zero_grad()\n",
    "\n",
    "    output = st(data, time)\n",
    "\n",
    "    loss = loss_fn(output, data.flows[:, time])\n",
    "\n",
    "    loss.backward()\n",
    "\n",
    "    optimizer.step()\n",
    "\n",
    "    return loss.item()"
   ]
  },
  {
   "cell_type": "code",
   "execution_count": null,
   "id": "6e6415ee",
   "metadata": {},
   "outputs": [],
   "source": [
    "@torch.no_grad()\n",
    "def eval(st, data, times, returned=None):\n",
    "    st.eval()\n",
    "\n",
    "    errors = []\n",
    "    outputs = []\n",
    "    for time in times:\n",
    "        output = st(data, time)\n",
    "        if returned:\n",
    "            outputs.append(output)\n",
    "        error = L1Loss()(output, data.flows[:, time])\n",
    "        errors.append(error)\n",
    "        # print(output, data.flows[:, time])\n",
    "    if returned:\n",
    "        return outputs\n",
    "    return torch.tensor(errors).mean()"
   ]
  },
  {
   "cell_type": "code",
   "execution_count": null,
   "id": "f5e5d997",
   "metadata": {},
   "outputs": [],
   "source": [
    "class SpatioTemporal(Module):\n",
    "    def __init__(self, input_dim, gnn_dims, node_pooling_dims, graph_pooling_dims, rnn_dim, ff_dims, gnn_dropout_rate, ff_dropout_rate, rnn_dropout_rate):\n",
    "        super(SpatioTemporal, self).__init__()\n",
    "        self.input_dim = input_dim\n",
    "        self.gnn_dims = gnn_dims\n",
    "        self.node_pooling_dims = node_pooling_dims\n",
    "        self.graph_pooling_dims = graph_pooling_dims\n",
    "        self.rnn_dim = rnn_dim\n",
    "        self.ff_dims = ff_dims\n",
    "        self.gnn_dropout_rate = gnn_dropout_rate\n",
    "        self.ff_dropout_rate = ff_dropout_rate\n",
    "        self.rnn_dropout_rate = rnn_dropout_rate\n",
    "\n",
    "        ## Implementing GNN Layers\n",
    "        dims = [self.input_dim] + gnn_dims\n",
    "        self.gnn_bn_layers = ModuleList(\n",
    "            [\n",
    "               BatchNorm1d(dim) for dim in dims[1:]\n",
    "            ]\n",
    "        )\n",
    "        \n",
    "        self.gnn_layers = ModuleList(\n",
    "            [\n",
    "               GCNConv(dim, dims[i+1]) for i, dim in enumerate(dims[:-1])\n",
    "            ]\n",
    "        )\n",
    "\n",
    "        ## Node Pooling\n",
    "        dims = [self.gnn_dims[-1]] + self.node_pooling_dims\n",
    "        self.node_pooling_layers = ModuleList(\n",
    "            [\n",
    "               Linear(dim, dims[i+1]) for i, dim in enumerate(dims[:-1])\n",
    "            ]\n",
    "        )\n",
    "\n",
    "        self.node_pooling_bn_layers = ModuleList(\n",
    "            [\n",
    "               BatchNorm1d(dim) for dim in dims[1:]\n",
    "            ]\n",
    "        )\n",
    "\n",
    "        ## Graph Pooling\n",
    "        dims = [self.node_pooling_dims[-1]] + self.graph_pooling_dims\n",
    "        self.graph_pooling_layers = ModuleList(\n",
    "            [\n",
    "               Linear(dim, dims[i+1]) for i, dim in enumerate(dims[:-1])\n",
    "            ]\n",
    "        )\n",
    "\n",
    "        ## Adding RNN Layers \n",
    "        self.rnn = LSTM(self.graph_pooling_dims[-1] + self.ff_dims[-1], self.rnn_dim, 2, dropout=self.rnn_dropout_rate)\n",
    "\n",
    "\n",
    "        dims = [self.rnn_dim] + self.ff_dims\n",
    "        self.ff_layers = ModuleList(\n",
    "            [\n",
    "               Linear(dim, dims[i+1]) for i, dim in enumerate(dims[:-1])\n",
    "            ]\n",
    "        )\n",
    "\n",
    "        self.activation = ReLU()\n",
    "        self.gnn_dropout = Dropout(self.gnn_dropout_rate)\n",
    "        self.ff_dropout = Dropout(self.ff_dropout_rate)\n",
    "\n",
    "    def forward(self, data, timestep):\n",
    "        x = data.x\n",
    "\n",
    "        # GNN\n",
    "        for conv, bn in zip(self.gnn_layers, self.gnn_bn_layers):\n",
    "            \n",
    "            x = conv(x, edge_index=data.edge_index)\n",
    "            x = bn(x)\n",
    "            x = self.activation(x)\n",
    "            x = self.gnn_dropout(x)\n",
    "        \n",
    "        # Node Pooling \n",
    "        for ff, bn in zip(self.node_pooling_layers, self.node_pooling_bn_layers):\n",
    "            x = ff(x)\n",
    "            x = bn(x)\n",
    "            x = self.activation(x)\n",
    "            x = self.ff_dropout(x) \n",
    "        \n",
    "        x = x.sum(0).reshape(1, -1)\n",
    "\n",
    "        # Graph Pooling \n",
    "        for ff in self.graph_pooling_layers:\n",
    "            x = ff(x)\n",
    "            # x = bn(x)\n",
    "            x = self.activation(x)\n",
    "            x = self.ff_dropout(x) \n",
    "\n",
    "        # RNN\n",
    "        x = x.repeat(timestep + 1, 1)\n",
    "\n",
    "        global device\n",
    "        x_time = torch.hstack((torch.zeros(flows.shape[0]).reshape(-1, 1).to(device), data.flows[:, :timestep])).t()\n",
    "\n",
    "        x = torch.hstack((x_time, x))\n",
    "        \n",
    "        x, (h, c) = self.rnn(x)\n",
    "        \n",
    "        # Regression\n",
    "        x = x[-1, :]\n",
    "        for ff in self.ff_layers[:-1]:\n",
    "            x = ff(x)\n",
    "            # x = bn(x)\n",
    "            x = self.activation(x)\n",
    "            x = self.ff_dropout(x)\n",
    "        \n",
    "        x = self.ff_layers[-1](x)\n",
    "        \n",
    "        return self.ff_dropout(x).reshape(-1)"
   ]
  },
  {
   "cell_type": "markdown",
   "id": "52ef54a0",
   "metadata": {},
   "source": [
    "# Training Function"
   ]
  },
  {
   "cell_type": "code",
   "execution_count": null,
   "id": "fe671e03",
   "metadata": {},
   "outputs": [],
   "source": [
    "def pipeline_for_one_config(st, data, loss_fn, optimizer):\n",
    "    train_errors = []\n",
    "    val_errors = []\n",
    "    test_errors = []\n",
    "    train_errors.append(eval(st, data, range(1, 750)))\n",
    "    val_errors.append(eval(st, data, range(751, 975)))\n",
    "    test_errors.append(eval(st, data, range(976, 1200)))\n",
    "\n",
    "    test_outputs = []\n",
    "    for epoch in range(500):\n",
    "        train_errors.append(eval(st, data, range(1, 750)))\n",
    "        val_errors.append(eval(st, data, range(751, 975)))\n",
    "        test_errors.append(eval(st, data, range(976, 1200)))\n",
    "        test_outputs.append(eval(st, data, range(976, 1200), True))\n",
    "\n",
    "        epoch_loss = 0\n",
    "        for time in range(1, 80):\n",
    "            epoch_loss += train(st, data, time, loss_fn, optimizer)\n",
    "    train_errors.append(eval(st, data, range(1, 750)))\n",
    "    val_errors.append(eval(st, data, range(751, 975)))\n",
    "    test_errors.append(eval(st, data, range(976, 1200)))\n",
    "\n",
    "    i = torch.tensor(val_errors).argmin()\n",
    "    return val_errors[i], test_errors[i], i, test_outputs[i]"
   ]
  },
  {
   "cell_type": "markdown",
   "id": "1d532471",
   "metadata": {},
   "source": [
    "# Run Algorithm"
   ]
  },
  {
   "cell_type": "code",
   "execution_count": null,
   "id": "6c49b285",
   "metadata": {},
   "outputs": [],
   "source": [
    "# Adjust hyperparameters here:\n",
    "\n",
    "gnn_dim = 64\n",
    "np_dim = 80\n",
    "gp_dim = 80\n",
    "rnn_dim = 384\n",
    "ff_dim = 300\n",
    "dropout = 0.25\n",
    "lr = 1e-4\n",
    "st = SpatioTemporal(1, [gnn_dim, gnn_dim], [np_dim, np_dim], [gp_dim, gp_dim], rnn_dim, [ff_dim, 8], dropout, dropout, dropout).to(device)\n",
    "optimizer = Adam(st.parameters(), lr=lr)\n",
    "loss_fn = MSELoss()\n",
    "dev_error, test_error, i, predictions = pipeline_for_one_config(st, data, loss_fn, optimizer)"
   ]
  },
  {
   "cell_type": "markdown",
   "id": "4c021fa7",
   "metadata": {},
   "source": [
    "# Create Weighted Graph Network Structure"
   ]
  },
  {
   "cell_type": "code",
   "execution_count": null,
   "id": "328311a6",
   "metadata": {},
   "outputs": [],
   "source": [
    "weighted_values = torch.stack(predictions)[0, :]\n",
    "edges = [(0, 1), (1, 2), (2, 3), (0, 3), (0, 4), (3, 4)]\n",
    "graph = np.zeros(25).reshape(-1, 5)\n",
    "for i in range(5):\n",
    "    for j in range(5):\n",
    "        for key, prediction in zip(edges, weighted_values):\n",
    "            if i in key and j in key and i != j:\n",
    "                graph[i][j] = prediction\n",
    "                break\n",
    "                \n",
    "# graph now contains the outputted weighted graph network structure"
   ]
  }
 ],
 "metadata": {
  "kernelspec": {
   "display_name": "Python 3 (ipykernel)",
   "language": "python",
   "name": "python3"
  },
  "language_info": {
   "codemirror_mode": {
    "name": "ipython",
    "version": 3
   },
   "file_extension": ".py",
   "mimetype": "text/x-python",
   "name": "python",
   "nbconvert_exporter": "python",
   "pygments_lexer": "ipython3",
   "version": "3.11.4"
  }
 },
 "nbformat": 4,
 "nbformat_minor": 5
}
